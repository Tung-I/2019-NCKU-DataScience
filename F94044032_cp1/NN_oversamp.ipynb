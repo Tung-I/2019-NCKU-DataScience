{
 "cells": [
  {
   "cell_type": "code",
   "execution_count": 1,
   "metadata": {},
   "outputs": [],
   "source": [
    "import numpy as np  \n",
    "import matplotlib.pyplot as plt  \n",
    "import pandas as pd \n",
    "import random\n",
    "from sklearn.neural_network import MLPClassifier\n",
    "from sklearn.datasets import fetch_mldata\n",
    "from sklearn.model_selection import train_test_split \n",
    "from sklearn.metrics import classification_report, confusion_matrix\n",
    "from sklearn import preprocessing\n",
    "from sklearn.decomposition import PCA\n",
    "from imblearn.over_sampling import RandomOverSampler"
   ]
  },
  {
   "cell_type": "code",
   "execution_count": 2,
   "metadata": {},
   "outputs": [],
   "source": [
    "df = pd.read_csv('train.csv')\n",
    "#one hot encoding\n",
    "df['Geography'] = df['Geography'].map({'S0':0, 'S1':1, 'S2':2})\n",
    "df['Gender'] = df['Gender'].map({'Male':0, 'Female':1})"
   ]
  },
  {
   "cell_type": "code",
   "execution_count": 3,
   "metadata": {},
   "outputs": [],
   "source": [
    "#preprocessing\n",
    "min_max_scaler = preprocessing.MinMaxScaler()\n",
    "\n",
    "CreditScore = df['CreditScore']\n",
    "Geography = df['Geography']\n",
    "Gender = df['Gender']\n",
    "Age = df['Age']\n",
    "Tenure = df['Tenure']\n",
    "Balance = df['Balance']\n",
    "NumOfProducts = df['NumOfProducts']\n",
    "HasCrCard = df['HasCrCard']\n",
    "IsActiveMember = df['IsActiveMember']\n",
    "EstimatedSalary = df['EstimatedSalary']\n",
    "Exited = df['Exited']\n",
    "\n",
    "features = (CreditScore, Geography, Age, Tenure, NumOfProducts, HasCrCard, \\\n",
    "            IsActiveMember, EstimatedSalary)\n",
    "feature_name = ('CreditScore', 'Geography', 'Age', 'Tenure', 'NumOfProducts', 'HasCrCard', \\\n",
    "            'IsActiveMember', 'EstimatedSalary')\n",
    "\n",
    "scale_feature = {}\n",
    "for i, d in enumerate(features):\n",
    "    tmp = np.array(d).astype(float)\n",
    "    _arr = min_max_scaler.fit_transform(tmp.reshape(-1, 1))\n",
    "    scale_feature[feature_name[i]] = _arr\n",
    "\n",
    "X = np.zeros((len(Age), len(feature_name)))\n",
    "for i, _feature in enumerate(feature_name):\n",
    "    for j in range(len(Age)):\n",
    "        X[j][i] = scale_feature[_feature][j]\n",
    "        \n",
    "for i in range(len(Age)):\n",
    "    for j in range(len(features)):\n",
    "        if X[i][j] == 1:\n",
    "            X[i][j] = 0.9999\n",
    "        elif X[i][j] == 0:\n",
    "            X[i][j] = 0.0001\n",
    "\n",
    "y = np.array(Exited.tolist())"
   ]
  },
  {
   "cell_type": "code",
   "execution_count": 5,
   "metadata": {},
   "outputs": [
    {
     "name": "stdout",
     "output_type": "stream",
     "text": [
      "              precision    recall  f1-score   support\n",
      "\n",
      "           0       0.92      0.81      0.86      1283\n",
      "           1       0.48      0.71      0.57       317\n",
      "\n",
      "   micro avg       0.79      0.79      0.79      1600\n",
      "   macro avg       0.70      0.76      0.72      1600\n",
      "weighted avg       0.83      0.79      0.80      1600\n",
      "\n"
     ]
    }
   ],
   "source": [
    "X_train, X_test, y_train, y_test = train_test_split(X, y, test_size = 0.20) \n",
    "\n",
    "#oversampling\n",
    "ros = RandomOverSampler(random_state=2)\n",
    "X_res, y_res = ros.fit_resample(X_train, y_train)\n",
    "X_train = X_res\n",
    "y_train = y_res\n",
    "\n",
    "#parameters\n",
    "_solver = 'adam'\n",
    "_activation = 'relu'\n",
    "_alpha = 1e-4\n",
    "_hidden_layer = (32,32)\n",
    "_lr_rate = 0.001\n",
    "_batch = 128\n",
    "_max_iter = 200\n",
    "\n",
    "mlp = MLPClassifier(solver=_solver, activation=_activation, alpha=_alpha, hidden_layer_sizes=_hidden_layer,\\\n",
    "                    batch_size=_batch, learning_rate_init=_lr_rate, max_iter=_max_iter)\n",
    "mlp.fit(X_train, y_train)\n",
    "y_pred = mlp.predict(X_test)\n",
    "\n",
    "print(classification_report(y_test, y_pred)) "
   ]
  },
  {
   "cell_type": "code",
   "execution_count": null,
   "metadata": {},
   "outputs": [],
   "source": []
  }
 ],
 "metadata": {
  "kernelspec": {
   "display_name": "Python 3",
   "language": "python",
   "name": "python3"
  },
  "language_info": {
   "codemirror_mode": {
    "name": "ipython",
    "version": 3
   },
   "file_extension": ".py",
   "mimetype": "text/x-python",
   "name": "python",
   "nbconvert_exporter": "python",
   "pygments_lexer": "ipython3",
   "version": "3.7.1"
  }
 },
 "nbformat": 4,
 "nbformat_minor": 2
}
