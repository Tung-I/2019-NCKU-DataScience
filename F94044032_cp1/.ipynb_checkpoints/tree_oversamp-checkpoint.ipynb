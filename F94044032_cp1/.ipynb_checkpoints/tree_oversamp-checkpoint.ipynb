{
 "cells": [
  {
   "cell_type": "code",
   "execution_count": 12,
   "metadata": {},
   "outputs": [],
   "source": [
    "import numpy as np  \n",
    "import matplotlib.pyplot as plt  \n",
    "import pandas as pd \n",
    "import random\n",
    "from sklearn.neural_network import MLPClassifier\n",
    "from sklearn.datasets import fetch_mldata\n",
    "from sklearn.model_selection import train_test_split \n",
    "from sklearn.metrics import classification_report, confusion_matrix\n",
    "from sklearn import preprocessing\n",
    "from sklearn.decomposition import PCA\n",
    "from imblearn.over_sampling import RandomOverSampler\n",
    "from sklearn import tree"
   ]
  },
  {
   "cell_type": "code",
   "execution_count": 13,
   "metadata": {},
   "outputs": [],
   "source": [
    "df = pd.read_csv('train.csv')\n",
    "df['Geography'] = df['Geography'].map({'S0':0, 'S1':1, 'S2':2})\n",
    "df['Gender'] = df['Gender'].map({'Male':0, 'Female':1})"
   ]
  },
  {
   "cell_type": "code",
   "execution_count": 14,
   "metadata": {},
   "outputs": [],
   "source": [
    "min_max_scaler = preprocessing.MinMaxScaler()\n",
    "\n",
    "CreditScore = df['CreditScore']\n",
    "Geography = df['Geography']\n",
    "Gender = df['Gender']\n",
    "Age = df['Age']\n",
    "Tenure = df['Tenure']\n",
    "Balance = df['Balance']\n",
    "NumOfProducts = df['NumOfProducts']\n",
    "HasCrCard = df['HasCrCard']\n",
    "IsActiveMember = df['IsActiveMember']\n",
    "EstimatedSalary = df['EstimatedSalary']\n",
    "Exited = df['Exited']\n",
    "\n",
    "# features = (CreditScore, Geography, Gender, Age, Tenure, Balance, NumOfProducts, HasCrCard, \\\n",
    "#             IsActiveMember, EstimatedSalary)\n",
    "features = (CreditScore, Geography, Age, Tenure, NumOfProducts, HasCrCard, \\\n",
    "            IsActiveMember, EstimatedSalary)\n",
    "# feature_name = ('CreditScore', 'Geography', 'Gender', 'Age', 'Tenure', 'Balance', 'NumOfProducts', 'HasCrCard', \\\n",
    "#             'IsActiveMember', 'EstimatedSalary')\n",
    "feature_name = ('CreditScore', 'Geography', 'Age', 'Tenure', 'NumOfProducts', 'HasCrCard', \\\n",
    "            'IsActiveMember', 'EstimatedSalary')\n",
    "\n",
    "scale_feature = {}\n",
    "for i, d in enumerate(features):\n",
    "    tmp = np.array(d).astype(float)\n",
    "    _arr = min_max_scaler.fit_transform(tmp.reshape(-1, 1))\n",
    "    scale_feature[feature_name[i]] = _arr\n",
    "\n",
    "X = np.zeros((len(Age), len(feature_name)))\n",
    "for i, _feature in enumerate(feature_name):\n",
    "    for j in range(len(Age)):\n",
    "        X[j][i] = scale_feature[_feature][j]\n",
    "        \n",
    "for i in range(len(Age)):\n",
    "    for j in range(len(features)):\n",
    "        if X[i][j] == 1:\n",
    "            X[i][j] = 0.9999\n",
    "        elif X[i][j] == 0:\n",
    "            X[i][j] = 0.0001\n",
    "\n",
    "y = np.array(Exited.tolist())"
   ]
  },
  {
   "cell_type": "code",
   "execution_count": 15,
   "metadata": {},
   "outputs": [
    {
     "name": "stdout",
     "output_type": "stream",
     "text": [
      "              precision    recall  f1-score   support\n",
      "\n",
      "           0       0.86      0.84      0.85      1264\n",
      "           1       0.44      0.47      0.45       336\n",
      "\n",
      "   micro avg       0.76      0.76      0.76      1600\n",
      "   macro avg       0.65      0.65      0.65      1600\n",
      "weighted avg       0.77      0.76      0.76      1600\n",
      "\n"
     ]
    }
   ],
   "source": [
    "X_train, X_test, y_train, y_test = train_test_split(X, y, test_size = 0.20) \n",
    "\n",
    "# ros = RandomOverSampler(random_state=2)\n",
    "# X_res, y_res = ros.fit_resample(X_train, y_train)\n",
    "# X_train = X_res\n",
    "# y_train = y_res\n",
    "\n",
    "clf = tree.DecisionTreeClassifier()\n",
    "clf = clf.fit(X_train, y_train)\n",
    "\n",
    "y_pred = clf.predict(X_test)\n",
    "print(classification_report(y_test, y_pred)) \n",
    "\n"
   ]
  },
  {
   "cell_type": "code",
   "execution_count": null,
   "metadata": {},
   "outputs": [],
   "source": []
  }
 ],
 "metadata": {
  "kernelspec": {
   "display_name": "Python 3",
   "language": "python",
   "name": "python3"
  },
  "language_info": {
   "codemirror_mode": {
    "name": "ipython",
    "version": 3
   },
   "file_extension": ".py",
   "mimetype": "text/x-python",
   "name": "python",
   "nbconvert_exporter": "python",
   "pygments_lexer": "ipython3",
   "version": "3.7.1"
  }
 },
 "nbformat": 4,
 "nbformat_minor": 2
}
