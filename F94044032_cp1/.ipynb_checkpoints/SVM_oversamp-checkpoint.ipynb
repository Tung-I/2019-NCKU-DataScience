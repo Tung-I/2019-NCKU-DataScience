{
 "cells": [
  {
   "cell_type": "code",
   "execution_count": 1,
   "metadata": {},
   "outputs": [],
   "source": [
    "import numpy as np  \n",
    "import matplotlib.pyplot as plt  \n",
    "import pandas as pd \n",
    "import random\n",
    "import seaborn as sns\n",
    "from sklearn.neural_network import MLPClassifier\n",
    "from sklearn.model_selection import train_test_split \n",
    "from sklearn.metrics import classification_report, confusion_matrix\n",
    "from sklearn import preprocessing\n",
    "from sklearn.svm import SVC  \n",
    "from imblearn.over_sampling import RandomOverSampler"
   ]
  },
  {
   "cell_type": "code",
   "execution_count": 2,
   "metadata": {},
   "outputs": [],
   "source": [
    "df = pd.read_csv('train.csv')\n",
    "#one hot encoding\n",
    "df['Geography'] = df['Geography'].map({'S0':0, 'S1':1, 'S2':2})\n",
    "df['Gender'] = df['Gender'].map({'Male':0, 'Female':1})"
   ]
  },
  {
   "cell_type": "code",
   "execution_count": 3,
   "metadata": {},
   "outputs": [],
   "source": [
    "CreditScore = df['CreditScore']\n",
    "Geography = df['Geography']\n",
    "Gender = df['Gender']\n",
    "Age = df['Age']\n",
    "Tenure = df['Tenure']\n",
    "Balance = df['Balance']\n",
    "NumOfProducts = df['NumOfProducts']\n",
    "HasCrCard = df['HasCrCard']\n",
    "IsActiveMember = df['IsActiveMember']\n",
    "EstimatedSalary = df['EstimatedSalary']\n",
    "Exited = df['Exited']\n",
    "\n",
    "#select features\n",
    "features = (CreditScore, Geography, Gender, Age, Tenure, Balance, NumOfProducts, HasCrCard, \\\n",
    "            IsActiveMember, EstimatedSalary)\n",
    "feature_name = ('CreditScore', 'Geography', 'Gender', 'Age', 'Tenure', 'Balance', 'NumOfProducts', 'HasCrCard', \\\n",
    "            'IsActiveMember', 'EstimatedSalary')\n",
    "\n",
    "#preprocessing\n",
    "scale_feature = {}\n",
    "for i, d in enumerate(features):\n",
    "    tmp = np.array(d).astype(float)\n",
    "    _arr = preprocessing.scale(tmp.reshape(-1, 1))\n",
    "    scale_feature[feature_name[i]] = _arr\n",
    "\n",
    "X = np.zeros((len(Age), len(feature_name)))\n",
    "for i, _feature in enumerate(feature_name):\n",
    "    for j in range(len(Age)):\n",
    "        X[j][i] = scale_feature[_feature][j]\n",
    "\n",
    "y = np.array(Exited.tolist())"
   ]
  },
  {
   "cell_type": "code",
   "execution_count": 5,
   "metadata": {},
   "outputs": [
    {
     "name": "stdout",
     "output_type": "stream",
     "text": [
      "              precision    recall  f1-score   support\n",
      "\n",
      "           0       0.83      0.90      0.86      1265\n",
      "           1       0.43      0.29      0.35       335\n",
      "\n",
      "   micro avg       0.77      0.77      0.77      1600\n",
      "   macro avg       0.63      0.59      0.60      1600\n",
      "weighted avg       0.74      0.77      0.75      1600\n",
      "\n"
     ]
    }
   ],
   "source": [
    "X_train, X_test, y_train, y_test = train_test_split(X, y, test_size = 0.20) \n",
    "\n",
    "#oversampling\n",
    "ros = RandomOverSampler(random_state=2)\n",
    "X_res, y_res = ros.fit_resample(X_train, y_train)\n",
    "X_train = X_res\n",
    "y_train = y_res\n",
    "\n",
    "svclassifier = SVC(kernel='rbf', gamma=1.0, C=1.0) \n",
    "svclassifier.fit(X_train, y_train) \n",
    "y_pred = svclassifier.predict(X_test)  \n",
    "\n",
    "print(classification_report(y_test, y_pred)) "
   ]
  },
  {
   "cell_type": "code",
   "execution_count": null,
   "metadata": {},
   "outputs": [],
   "source": []
  }
 ],
 "metadata": {
  "kernelspec": {
   "display_name": "Python 3",
   "language": "python",
   "name": "python3"
  },
  "language_info": {
   "codemirror_mode": {
    "name": "ipython",
    "version": 3
   },
   "file_extension": ".py",
   "mimetype": "text/x-python",
   "name": "python",
   "nbconvert_exporter": "python",
   "pygments_lexer": "ipython3",
   "version": "3.7.1"
  }
 },
 "nbformat": 4,
 "nbformat_minor": 2
}
