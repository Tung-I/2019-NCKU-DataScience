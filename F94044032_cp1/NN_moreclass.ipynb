{
 "cells": [
  {
   "cell_type": "code",
   "execution_count": 3,
   "metadata": {},
   "outputs": [],
   "source": [
    "import numpy as np  \n",
    "import matplotlib.pyplot as plt  \n",
    "import pandas as pd \n",
    "import random\n",
    "from sklearn.neural_network import MLPClassifier\n",
    "from sklearn.datasets import fetch_mldata\n",
    "from sklearn.model_selection import train_test_split \n",
    "from sklearn.metrics import classification_report, confusion_matrix\n",
    "from sklearn import preprocessing\n",
    "from sklearn.svm import SVC \n",
    "from imblearn.over_sampling import RandomOverSampler"
   ]
  },
  {
   "cell_type": "code",
   "execution_count": 4,
   "metadata": {},
   "outputs": [],
   "source": [
    "df = pd.read_csv('train.csv')\n",
    "#one hot encoding\n",
    "df['Geography'] = df['Geography'].map({'S0':0, 'S1':1, 'S2':2})\n",
    "df['Gender'] = df['Gender'].map({'Male':0, 'Female':1})"
   ]
  },
  {
   "cell_type": "code",
   "execution_count": 5,
   "metadata": {},
   "outputs": [],
   "source": [
    "min_max_scaler = preprocessing.MinMaxScaler()\n",
    "\n",
    "CreditScore = df['CreditScore']\n",
    "Geography = df['Geography']\n",
    "Gender = df['Gender']\n",
    "Age = df['Age']\n",
    "Tenure = df['Tenure']\n",
    "Balance = df['Balance']\n",
    "NumOfProducts = df['NumOfProducts']\n",
    "HasCrCard = df['HasCrCard']\n",
    "IsActiveMember = df['IsActiveMember']\n",
    "EstimatedSalary = df['EstimatedSalary']\n",
    "Exited = df['Exited']\n",
    "#select the features\n",
    "features = (Geography, Age, Tenure, NumOfProducts, HasCrCard, \\\n",
    "            IsActiveMember)\n",
    "feature_name = ('Geography', 'Age', 'Tenure', 'NumOfProducts', 'HasCrCard', \\\n",
    "            'IsActiveMember')\n",
    "#features preprocessing\n",
    "scale_feature = {}\n",
    "for i, d in enumerate(features):\n",
    "    tmp = np.array(d).astype(float)\n",
    "    _arr = min_max_scaler.fit_transform(tmp.reshape(-1, 1))\n",
    "    scale_feature[feature_name[i]] = _arr\n",
    "\n",
    "X = np.zeros((len(Age), len(feature_name)))\n",
    "for i, _feature in enumerate(feature_name):\n",
    "    for j in range(len(Age)):\n",
    "        X[j][i] = scale_feature[_feature][j]\n",
    "        \n",
    "for i in range(len(Age)):\n",
    "    for j in range(len(features)):\n",
    "        if X[i][j] == 1:\n",
    "            X[i][j] = 0.9999\n",
    "        elif X[i][j] == 0:\n",
    "            X[i][j] = 0.0001\n",
    "\n",
    "y = np.array(Exited.tolist())"
   ]
  },
  {
   "cell_type": "code",
   "execution_count": 7,
   "metadata": {},
   "outputs": [
    {
     "name": "stdout",
     "output_type": "stream",
     "text": [
      "              precision    recall  f1-score   support\n",
      "\n",
      "           0       0.91      0.80      0.85      1264\n",
      "           1       0.48      0.72      0.58       336\n",
      "\n",
      "   micro avg       0.78      0.78      0.78      1600\n",
      "   macro avg       0.70      0.76      0.71      1600\n",
      "weighted avg       0.82      0.78      0.79      1600\n",
      "\n"
     ]
    }
   ],
   "source": [
    "X_train, X_test, y_train, y_test = train_test_split(X, y, test_size = 0.20)\n",
    "\n",
    "#divide class 0 into 4 classes \n",
    "y_train = list(y_train)\n",
    "class_add_list = [0, 2, 3, 4]\n",
    "y_more_class = []\n",
    "cnt = 0\n",
    "for i, c in enumerate(y_train):\n",
    "    if c==0:\n",
    "        pt = cnt%len(class_add_list)\n",
    "        y_more_class.append(class_add_list[pt])\n",
    "        cnt+=1\n",
    "    else:\n",
    "        y_more_class.append(1)\n",
    "\n",
    "y_train =np.array(y_more_class)\n",
    "\n",
    "#parameters \n",
    "_solver = 'adam'\n",
    "_activation = 'relu'\n",
    "_alpha = 1e-4\n",
    "_hidden_layer = (32, 32)\n",
    "_lr_rate = 0.001\n",
    "_batch = 128\n",
    "_max_iter = 200\n",
    "\n",
    "mlp = MLPClassifier(solver=_solver, activation=_activation, alpha=_alpha, hidden_layer_sizes=_hidden_layer,\\\n",
    "                    batch_size=_batch, learning_rate_init=_lr_rate, max_iter=_max_iter)\n",
    "mlp.fit(X_train, y_train)\n",
    "y_pred = mlp.predict(X_test)\n",
    "\n",
    "#tidy up the results\n",
    "for i in range(len(list(y_pred))):\n",
    "    if y_pred[i]!=1:\n",
    "        y_pred[i] = 0\n",
    "print(classification_report(y_test, y_pred)) "
   ]
  },
  {
   "cell_type": "code",
   "execution_count": null,
   "metadata": {},
   "outputs": [],
   "source": []
  }
 ],
 "metadata": {
  "kernelspec": {
   "display_name": "Python 3",
   "language": "python",
   "name": "python3"
  },
  "language_info": {
   "codemirror_mode": {
    "name": "ipython",
    "version": 3
   },
   "file_extension": ".py",
   "mimetype": "text/x-python",
   "name": "python",
   "nbconvert_exporter": "python",
   "pygments_lexer": "ipython3",
   "version": "3.7.1"
  }
 },
 "nbformat": 4,
 "nbformat_minor": 2
}
