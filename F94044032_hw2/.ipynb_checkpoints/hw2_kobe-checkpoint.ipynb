{
 "cells": [
  {
   "cell_type": "code",
   "execution_count": 121,
   "metadata": {},
   "outputs": [],
   "source": [
    "import numpy as np\n",
    "import pandas as pd\n",
    "from collections import defaultdict\n",
    "import heapq"
   ]
  },
  {
   "cell_type": "code",
   "execution_count": 81,
   "metadata": {},
   "outputs": [
    {
     "data": {
      "text/html": [
       "<div>\n",
       "<style scoped>\n",
       "    .dataframe tbody tr th:only-of-type {\n",
       "        vertical-align: middle;\n",
       "    }\n",
       "\n",
       "    .dataframe tbody tr th {\n",
       "        vertical-align: top;\n",
       "    }\n",
       "\n",
       "    .dataframe thead th {\n",
       "        text-align: right;\n",
       "    }\n",
       "</style>\n",
       "<table border=\"1\" class=\"dataframe\">\n",
       "  <thead>\n",
       "    <tr style=\"text-align: right;\">\n",
       "      <th></th>\n",
       "      <th>action_type</th>\n",
       "      <th>combined_shot_type</th>\n",
       "      <th>game_id</th>\n",
       "      <th>minutes_remaining</th>\n",
       "      <th>period</th>\n",
       "      <th>playoffs</th>\n",
       "      <th>season</th>\n",
       "      <th>seconds_remaining</th>\n",
       "      <th>shot_distance</th>\n",
       "      <th>shot_made_flag</th>\n",
       "      <th>shot_type</th>\n",
       "      <th>shot_zone_area</th>\n",
       "      <th>shot_zone_basic</th>\n",
       "      <th>game_date</th>\n",
       "      <th>matchup</th>\n",
       "      <th>opponent</th>\n",
       "    </tr>\n",
       "  </thead>\n",
       "  <tbody>\n",
       "    <tr>\n",
       "      <th>0</th>\n",
       "      <td>Jump Shot</td>\n",
       "      <td>Jump Shot</td>\n",
       "      <td>20000012</td>\n",
       "      <td>10</td>\n",
       "      <td>1</td>\n",
       "      <td>0</td>\n",
       "      <td>Jan-00</td>\n",
       "      <td>27</td>\n",
       "      <td>18</td>\n",
       "      <td>0</td>\n",
       "      <td>2PT Field Goal</td>\n",
       "      <td>Right Side(R)</td>\n",
       "      <td>Mid-Range</td>\n",
       "      <td>2000/10/31</td>\n",
       "      <td>LAL @ POR</td>\n",
       "      <td>POR</td>\n",
       "    </tr>\n",
       "    <tr>\n",
       "      <th>1</th>\n",
       "      <td>Jump Shot</td>\n",
       "      <td>Jump Shot</td>\n",
       "      <td>20000012</td>\n",
       "      <td>10</td>\n",
       "      <td>1</td>\n",
       "      <td>0</td>\n",
       "      <td>Jan-00</td>\n",
       "      <td>22</td>\n",
       "      <td>15</td>\n",
       "      <td>0</td>\n",
       "      <td>2PT Field Goal</td>\n",
       "      <td>Left Side(L)</td>\n",
       "      <td>Mid-Range</td>\n",
       "      <td>2000/10/31</td>\n",
       "      <td>LAL @ POR</td>\n",
       "      <td>POR</td>\n",
       "    </tr>\n",
       "    <tr>\n",
       "      <th>2</th>\n",
       "      <td>Jump Shot</td>\n",
       "      <td>Jump Shot</td>\n",
       "      <td>20000012</td>\n",
       "      <td>7</td>\n",
       "      <td>1</td>\n",
       "      <td>0</td>\n",
       "      <td>Jan-00</td>\n",
       "      <td>45</td>\n",
       "      <td>16</td>\n",
       "      <td>0</td>\n",
       "      <td>2PT Field Goal</td>\n",
       "      <td>Left Side Center(LC)</td>\n",
       "      <td>Mid-Range</td>\n",
       "      <td>2000/10/31</td>\n",
       "      <td>LAL @ POR</td>\n",
       "      <td>POR</td>\n",
       "    </tr>\n",
       "    <tr>\n",
       "      <th>3</th>\n",
       "      <td>Jump Shot</td>\n",
       "      <td>Jump Shot</td>\n",
       "      <td>20000012</td>\n",
       "      <td>6</td>\n",
       "      <td>1</td>\n",
       "      <td>0</td>\n",
       "      <td>Jan-00</td>\n",
       "      <td>52</td>\n",
       "      <td>22</td>\n",
       "      <td>0</td>\n",
       "      <td>2PT Field Goal</td>\n",
       "      <td>Right Side Center(RC)</td>\n",
       "      <td>Mid-Range</td>\n",
       "      <td>2000/10/31</td>\n",
       "      <td>LAL @ POR</td>\n",
       "      <td>POR</td>\n",
       "    </tr>\n",
       "    <tr>\n",
       "      <th>4</th>\n",
       "      <td>Driving Dunk Shot</td>\n",
       "      <td>Dunk</td>\n",
       "      <td>20000012</td>\n",
       "      <td>6</td>\n",
       "      <td>2</td>\n",
       "      <td>0</td>\n",
       "      <td>Jan-00</td>\n",
       "      <td>19</td>\n",
       "      <td>0</td>\n",
       "      <td>0</td>\n",
       "      <td>2PT Field Goal</td>\n",
       "      <td>Center(C)</td>\n",
       "      <td>Restricted Area</td>\n",
       "      <td>2000/10/31</td>\n",
       "      <td>LAL @ POR</td>\n",
       "      <td>POR</td>\n",
       "    </tr>\n",
       "  </tbody>\n",
       "</table>\n",
       "</div>"
      ],
      "text/plain": [
       "         action_type combined_shot_type   game_id  minutes_remaining  period  \\\n",
       "0          Jump Shot          Jump Shot  20000012                 10       1   \n",
       "1          Jump Shot          Jump Shot  20000012                 10       1   \n",
       "2          Jump Shot          Jump Shot  20000012                  7       1   \n",
       "3          Jump Shot          Jump Shot  20000012                  6       1   \n",
       "4  Driving Dunk Shot               Dunk  20000012                  6       2   \n",
       "\n",
       "   playoffs  season  seconds_remaining  shot_distance  shot_made_flag  \\\n",
       "0         0  Jan-00                 27             18               0   \n",
       "1         0  Jan-00                 22             15               0   \n",
       "2         0  Jan-00                 45             16               0   \n",
       "3         0  Jan-00                 52             22               0   \n",
       "4         0  Jan-00                 19              0               0   \n",
       "\n",
       "        shot_type         shot_zone_area  shot_zone_basic   game_date  \\\n",
       "0  2PT Field Goal          Right Side(R)        Mid-Range  2000/10/31   \n",
       "1  2PT Field Goal           Left Side(L)        Mid-Range  2000/10/31   \n",
       "2  2PT Field Goal   Left Side Center(LC)        Mid-Range  2000/10/31   \n",
       "3  2PT Field Goal  Right Side Center(RC)        Mid-Range  2000/10/31   \n",
       "4  2PT Field Goal              Center(C)  Restricted Area  2000/10/31   \n",
       "\n",
       "     matchup opponent  \n",
       "0  LAL @ POR      POR  \n",
       "1  LAL @ POR      POR  \n",
       "2  LAL @ POR      POR  \n",
       "3  LAL @ POR      POR  \n",
       "4  LAL @ POR      POR  "
      ]
     },
     "execution_count": 81,
     "metadata": {},
     "output_type": "execute_result"
    }
   ],
   "source": [
    "df = pd.read_csv('kobe.csv')\n",
    "df.head()"
   ]
  },
  {
   "cell_type": "code",
   "execution_count": 22,
   "metadata": {},
   "outputs": [],
   "source": [
    "def question1():\n",
    "    vs_HOU = df[df['opponent']=='HOU']\n",
    "    vs_HOU_2pt = vs_HOU[vs_HOU['shot_type']=='2PT Field Goal']\n",
    "    vs_HOU_3pt = vs_HOU[vs_HOU['shot_type']=='3PT Field Goal']\n",
    "\n",
    "    n_row, n_col= vs_HOU_2pt.shape\n",
    "    shot_made_series = vs_HOU_2pt['shot_made_flag']\n",
    "    rate_2pt = shot_made_series.sum()/n_row\n",
    "\n",
    "    n_row, n_col= vs_HOU_3pt.shape\n",
    "    shot_made_series = vs_HOU_3pt['shot_made_flag']\n",
    "    rate_3pt = shot_made_series.sum()/n_row\n",
    "    \n",
    "    print(\"Kobe 對戰火箭隊(HOU)的平均兩分球與三分球命中率:\")\n",
    "    print(\"average 2PT FG% : \"+str(rate_2pt))\n",
    "    print(\"average 3PT FG% : \"+str(rate_3pt))\n"
   ]
  },
  {
   "cell_type": "code",
   "execution_count": 115,
   "metadata": {},
   "outputs": [
    {
     "name": "stdout",
     "output_type": "stream",
     "text": [
      "Kobe 對戰火箭隊(HOU)的平均兩分球與三分球命中率:\n",
      "average 2PT FG% : 0.38814814814814813\n",
      "average 3PT FG% : 0.26582278481012656\n"
     ]
    }
   ],
   "source": [
    "question1()"
   ]
  },
  {
   "cell_type": "code",
   "execution_count": 134,
   "metadata": {},
   "outputs": [],
   "source": [
    "def question2():\n",
    "    df = pd.read_csv('kobe.csv')\n",
    "\n",
    "    opponents = df.drop_duplicates(subset='opponent', keep='first')['opponent']\n",
    "    opponents = opponents.tolist()\n",
    "\n",
    "    oppo_pt = {}\n",
    "\n",
    "    for oppo in opponents:\n",
    "        data = df[df['opponent']==oppo]\n",
    "        game_cnt = len(data.drop_duplicates(subset='game_id', keep='first', inplace=False))\n",
    "        point_2pt = 2*len(data[(data.shot_type == '2PT Field Goal') & (data['shot_made_flag']==1)])\n",
    "        point_3pt = 3*len(data[(data.shot_type == '3PT Field Goal') & (data['shot_made_flag']==1)])\n",
    "        point = (point_2pt+point_3pt)/game_cnt\n",
    "        oppo_pt[oppo] = point\n",
    "\n",
    "    print(\"使得 Kobe 平均得分最低的前五支球隊\")\n",
    "    top5 = heapq.nsmallest(5, zip(oppo_pt.values(), oppo_pt.keys()))\n",
    "    for i in range(5):\n",
    "        print (top5[i])\n"
   ]
  },
  {
   "cell_type": "code",
   "execution_count": 135,
   "metadata": {},
   "outputs": [
    {
     "name": "stdout",
     "output_type": "stream",
     "text": [
      "使得 Kobe 平均得分最低的前五支球隊\n",
      "(11.166666666666666, 'VAN')\n",
      "(12.666666666666666, 'BKN')\n",
      "(14.025641025641026, 'IND')\n",
      "(14.142857142857142, 'UTA')\n",
      "(14.178571428571429, 'NJN')\n"
     ]
    }
   ],
   "source": [
    "question2()"
   ]
  },
  {
   "cell_type": "code",
   "execution_count": 152,
   "metadata": {},
   "outputs": [],
   "source": [
    "def question3():\n",
    "    df = pd.read_csv('kobe.csv')\n",
    "\n",
    "    game_ids = df.drop_duplicates(subset='game_id', keep='first')['game_id']\n",
    "    game_ids = game_ids.tolist()\n",
    "\n",
    "    py_q4 = df[(df['playoffs']==1) & (df['period']==4)]\n",
    "    py_q4_2m = py_q4[py_q4['minutes_remaining']==2]\n",
    "    py_q4_1m = py_q4[py_q4['minutes_remaining']==1]\n",
    "    py_q4_0m = py_q4[py_q4['minutes_remaining']==0]\n",
    "\n",
    "    py_q4_3m = pd.concat([py_q4_2m, py_q4_1m, py_q4_0m], ignore_index=True)\n",
    "\n",
    "    pt_game = {}\n",
    "    for _id in game_ids:\n",
    "        shots = py_q4_3m[py_q4_3m['game_id']==_id]\n",
    "        shot_made_2pt = shots[(shots['shot_type']=='2PT Field Goal')&(shots['shot_made_flag']==1)]\n",
    "        shot_made_3pt = shots[(shots['shot_type']=='3PT Field Goal')&(shots['shot_made_flag']==1)]\n",
    "        point = 2*len(shot_made_2pt)+3*len(shot_made_3pt)\n",
    "        pt_game[_id] = point\n",
    "    top5 = heapq.nlargest(5, zip(pt_game.values(), pt_game.keys()))\n",
    "    print('在季後賽最後 3 分鐘內得分最高的前五場球賽')\n",
    "    print('(得分, game id)')\n",
    "    for i in top5:\n",
    "        print(i)"
   ]
  },
  {
   "cell_type": "code",
   "execution_count": 153,
   "metadata": {},
   "outputs": [
    {
     "name": "stdout",
     "output_type": "stream",
     "text": [
      "在季後賽最後 3 分鐘內得分最高的前五場球賽\n",
      "(得分, game id)\n",
      "(9, 49900074)\n",
      "(8, 40100234)\n",
      "(7, 49900024)\n",
      "(7, 40700402)\n",
      "(6, 49600024)\n"
     ]
    }
   ],
   "source": [
    "question3()"
   ]
  },
  {
   "cell_type": "code",
   "execution_count": 179,
   "metadata": {},
   "outputs": [],
   "source": [
    "def question4():\n",
    "    df = pd.read_csv('kobe.csv')\n",
    "    df = df.sort_values(by='game_date')\n",
    "    filted = df[(df['playoffs']==1)&(df['minutes_remaining']==0)&(df['period']==4)&(df['action_type']=='Jump Shot')]\n",
    "    filted.reset_index(drop=True, inplace=True)\n",
    "\n",
    "    rate_season = {}\n",
    "    season_remain = filted.loc[0].season\n",
    "    game_cnt = 0\n",
    "    shot_made_cnt = 0 \n",
    "    for i in range(len(filted)):\n",
    "        if filted.loc[i].season!=season_remain:\n",
    "            rate_season[season_remain] = float(shot_made_cnt)/game_cnt\n",
    "            game_cnt = 1\n",
    "            shot_made_cnt = filted.loc[i].shot_made_flag\n",
    "            season_remain = filted.loc[i].season\n",
    "\n",
    "        else:\n",
    "            game_cnt+=1\n",
    "            shot_made_cnt+=filted.loc[i].shot_made_flag\n",
    "            \n",
    "    print('各球季季後賽中，比賽最後 1 分鐘內的 Jump Shot 命中率，按球季先後排序')\n",
    "    print('season : rate')\n",
    "    cnt = 0\n",
    "    rate = 0\n",
    "    for _season in rate_season.keys():\n",
    "        cnt+=1\n",
    "        if cnt<5:\n",
    "            print(_season+\" : \"+str(rate_season[_season]))\n",
    "        else:\n",
    "            rate+=rate_season[_season]\n",
    "    print('2000-01 : '+str(rate/10))\n",
    "    "
   ]
  },
  {
   "cell_type": "code",
   "execution_count": 180,
   "metadata": {},
   "outputs": [
    {
     "name": "stdout",
     "output_type": "stream",
     "text": [
      "各球季季後賽中，比賽最後 1 分鐘內的 Jump Shot 命中率，按球季先後排序\n",
      "season : rate\n",
      "1996-97 : 0.4\n",
      "1997-98 : 0.0\n",
      "1998-99 : 0.14285714285714285\n",
      "1999-00 : 0.1\n",
      "2000-01 : 0.1976190476190476\n"
     ]
    }
   ],
   "source": [
    "question4()"
   ]
  },
  {
   "cell_type": "code",
   "execution_count": 215,
   "metadata": {},
   "outputs": [],
   "source": [
    "def question5():\n",
    "    df = pd.read_csv('kobe.csv')\n",
    "    game_ids = df.drop_duplicates(subset='game_id', keep='first', inplace=False)['game_id']\n",
    "    game_ids = game_ids.tolist()\n",
    "    rate_date = []\n",
    "\n",
    "    for _id in game_ids:\n",
    "        data = df[df['game_id']==_id].reset_index(drop=True, inplace=False)\n",
    "        date = data.loc[0].game_date\n",
    "        rate = float(data['shot_made_flag'].sum()) / len(data)\n",
    "        rate_date.append((rate, date))\n",
    "\n",
    "\n",
    "    cnt_date = {}\n",
    "    cnt = 0\n",
    "    new = 1\n",
    "    for _iter in rate_date:\n",
    "        if _iter[0]>=0.33:\n",
    "            cnt+=1\n",
    "            if new==1:\n",
    "                start_date = _iter[1]\n",
    "                new = 0\n",
    "            else:\n",
    "                end_date = _iter[1]\n",
    "        else:\n",
    "            if new==0:   \n",
    "                cnt_date[start_date+'~'+end_date] = cnt\n",
    "                new = 1\n",
    "                cnt = 0\n",
    "    top3 = heapq.nlargest(3, zip(cnt_date.values(), cnt_date.keys()))\n",
    "    print('「得分命中率 33%以上的最長連續場數」前 3 名，列出場數以及起訖日期')\n",
    "    print('場數 : 起訖日期')\n",
    "    for _iter in top3:\n",
    "        print(str(_iter[0])+' : '+_iter[1])"
   ]
  },
  {
   "cell_type": "code",
   "execution_count": 216,
   "metadata": {},
   "outputs": [
    {
     "name": "stdout",
     "output_type": "stream",
     "text": [
      "「得分命中率 33%以上的最長連續場數」前 3 名，列出場數以及起訖日期\n",
      "場數 : 起訖日期\n",
      "22 : 2001/4/10~2001/12/7\n",
      "19 : 2000/2/1~2000/3/12\n",
      "16 : 2002/1/14~2002/2/17\n"
     ]
    }
   ],
   "source": [
    "question5()"
   ]
  },
  {
   "cell_type": "code",
   "execution_count": null,
   "metadata": {},
   "outputs": [],
   "source": [
    "def question6():\n",
    "    "
   ]
  },
  {
   "cell_type": "code",
   "execution_count": null,
   "metadata": {},
   "outputs": [],
   "source": []
  }
 ],
 "metadata": {
  "kernelspec": {
   "display_name": "Python 3",
   "language": "python",
   "name": "python3"
  },
  "language_info": {
   "codemirror_mode": {
    "name": "ipython",
    "version": 3
   },
   "file_extension": ".py",
   "mimetype": "text/x-python",
   "name": "python",
   "nbconvert_exporter": "python",
   "pygments_lexer": "ipython3",
   "version": "3.7.1"
  }
 },
 "nbformat": 4,
 "nbformat_minor": 2
}
